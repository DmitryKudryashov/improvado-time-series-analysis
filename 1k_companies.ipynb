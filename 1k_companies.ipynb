{
  "nbformat": 4,
  "nbformat_minor": 0,
  "metadata": {
    "colab": {
      "name": "1k_companies.ipynb",
      "provenance": [],
      "collapsed_sections": [],
      "authorship_tag": "ABX9TyPvBEIXEqYhLszQ2sUp86k4",
      "include_colab_link": true
    },
    "kernelspec": {
      "name": "python3",
      "display_name": "Python 3"
    }
  },
  "cells": [
    {
      "cell_type": "markdown",
      "metadata": {
        "id": "view-in-github",
        "colab_type": "text"
      },
      "source": [
        "<a href=\"https://colab.research.google.com/github/DmitryKudryashov/improvadostest/blob/master/1k_companies.ipynb\" target=\"_parent\"><img src=\"https://colab.research.google.com/assets/colab-badge.svg\" alt=\"Open In Colab\"/></a>"
      ]
    },
    {
      "cell_type": "markdown",
      "metadata": {
        "id": "i89FD9VNPihW",
        "colab_type": "text"
      },
      "source": [
        ""
      ]
    },
    {
      "cell_type": "code",
      "metadata": {
        "id": "XBTIeJoY140C",
        "colab_type": "code",
        "colab": {}
      },
      "source": [
        "import pickle \n",
        "import seaborn as sn\n",
        "import matplotlib.pyplot as plt\n",
        "import pandas as pd \n",
        "import numpy as np \n",
        "from sklearn.model_selection import train_test_split\n",
        "from sklearn.linear_model import LogisticRegression\n",
        "from sklearn.metrics import *\n"
      ],
      "execution_count": 0,
      "outputs": []
    },
    {
      "cell_type": "markdown",
      "metadata": {
        "id": "uE-n3mTQLfPt",
        "colab_type": "text"
      },
      "source": [
        "#Import second dataset\n",
        "\n"
      ]
    },
    {
      "cell_type": "code",
      "metadata": {
        "id": "4CZaA1q61881",
        "colab_type": "code",
        "colab": {}
      },
      "source": [
        "df = pd.read_excel('/content/Sample Data for Data Science Testing (1k companies).xlsx', header = 1)\n",
        "df2 = df.drop([ 'January',\n",
        "                'Febriary',\n",
        "                'March',]\n",
        "                ,axis = 1)\n",
        "\n",
        "df2.rename(columns={\"May '19\":'1',\n",
        "                    \"Jun '19\":'2',\n",
        "                    \"Jul '19\":'3',\n",
        "                    \"Aug '19\":'4',\n",
        "                    \"Sep '19\":'5',\n",
        "                    \"Oct '19\":'6',\n",
        "                    \"Nov '19\":'7',\n",
        "                    \"Dec '19\":'8',\n",
        "                    \"Jan '20\":'9',\n",
        "                    \"Feb '20\":'10',\n",
        "                    \"Mar '20\":'11'}, \n",
        "                      inplace=True)"
      ],
      "execution_count": 0,
      "outputs": []
    },
    {
      "cell_type": "markdown",
      "metadata": {
        "id": "gf_dC9CTLu-f",
        "colab_type": "text"
      },
      "source": [
        "#Data preparation"
      ]
    },
    {
      "cell_type": "code",
      "metadata": {
        "id": "sZH7T5pI2Pdu",
        "colab_type": "code",
        "colab": {
          "base_uri": "https://localhost:8080/",
          "height": 197
        },
        "outputId": "811bf549-dda1-40e8-c783-8ed35644cd0a"
      },
      "source": [
        "melt = df2.melt(id_vars='Company', var_name='Month', value_name='Adspend') #create new dataset form\n",
        "\n",
        "melt['Company'] = melt['Company'].str.extract('(\\d+)', expand=False).astype(int)\n",
        "melt['Month'] = melt['Month'].str.extract('(\\d+)', expand=False).astype(int)\n",
        "\n",
        "melt = melt.sort_values(['Month', 'Company'])\n",
        "melt.head()"
      ],
      "execution_count": 148,
      "outputs": [
        {
          "output_type": "execute_result",
          "data": {
            "text/html": [
              "<div>\n",
              "<style scoped>\n",
              "    .dataframe tbody tr th:only-of-type {\n",
              "        vertical-align: middle;\n",
              "    }\n",
              "\n",
              "    .dataframe tbody tr th {\n",
              "        vertical-align: top;\n",
              "    }\n",
              "\n",
              "    .dataframe thead th {\n",
              "        text-align: right;\n",
              "    }\n",
              "</style>\n",
              "<table border=\"1\" class=\"dataframe\">\n",
              "  <thead>\n",
              "    <tr style=\"text-align: right;\">\n",
              "      <th></th>\n",
              "      <th>Company</th>\n",
              "      <th>Month</th>\n",
              "      <th>Adspend</th>\n",
              "    </tr>\n",
              "  </thead>\n",
              "  <tbody>\n",
              "    <tr>\n",
              "      <th>0</th>\n",
              "      <td>1</td>\n",
              "      <td>1</td>\n",
              "      <td>142881.6</td>\n",
              "    </tr>\n",
              "    <tr>\n",
              "      <th>1</th>\n",
              "      <td>2</td>\n",
              "      <td>1</td>\n",
              "      <td>25612.8</td>\n",
              "    </tr>\n",
              "    <tr>\n",
              "      <th>2</th>\n",
              "      <td>3</td>\n",
              "      <td>1</td>\n",
              "      <td>13526.4</td>\n",
              "    </tr>\n",
              "    <tr>\n",
              "      <th>3</th>\n",
              "      <td>4</td>\n",
              "      <td>1</td>\n",
              "      <td>2316.9</td>\n",
              "    </tr>\n",
              "    <tr>\n",
              "      <th>4</th>\n",
              "      <td>5</td>\n",
              "      <td>1</td>\n",
              "      <td>107897.1</td>\n",
              "    </tr>\n",
              "  </tbody>\n",
              "</table>\n",
              "</div>"
            ],
            "text/plain": [
              "   Company  Month   Adspend\n",
              "0        1      1  142881.6\n",
              "1        2      1   25612.8\n",
              "2        3      1   13526.4\n",
              "3        4      1    2316.9\n",
              "4        5      1  107897.1"
            ]
          },
          "metadata": {
            "tags": []
          },
          "execution_count": 148
        }
      ]
    },
    {
      "cell_type": "code",
      "metadata": {
        "id": "A_CJcNG72aod",
        "colab_type": "code",
        "colab": {
          "base_uri": "https://localhost:8080/",
          "height": 197
        },
        "outputId": "a747ae10-253a-40d3-9f5e-dbaa7868b8d4"
      },
      "source": [
        "melt2 = melt.copy()                                   #copying and creating new variables \n",
        "melt2['lag1'] = melt2.groupby(['Company'])['Adspend'].shift()\n",
        "melt2['diff'] = melt2.groupby(['Company'])['lag1'].diff()\n",
        "melt2['lag2'] = melt2.groupby(['Company'])['Adspend'].shift(2)\n",
        "melt2[\"Direction\"] = np.sign(melt2['diff'])\n",
        "melt2 = melt2.dropna()\n",
        "melt2.head()"
      ],
      "execution_count": 149,
      "outputs": [
        {
          "output_type": "execute_result",
          "data": {
            "text/html": [
              "<div>\n",
              "<style scoped>\n",
              "    .dataframe tbody tr th:only-of-type {\n",
              "        vertical-align: middle;\n",
              "    }\n",
              "\n",
              "    .dataframe tbody tr th {\n",
              "        vertical-align: top;\n",
              "    }\n",
              "\n",
              "    .dataframe thead th {\n",
              "        text-align: right;\n",
              "    }\n",
              "</style>\n",
              "<table border=\"1\" class=\"dataframe\">\n",
              "  <thead>\n",
              "    <tr style=\"text-align: right;\">\n",
              "      <th></th>\n",
              "      <th>Company</th>\n",
              "      <th>Month</th>\n",
              "      <th>Adspend</th>\n",
              "      <th>lag1</th>\n",
              "      <th>diff</th>\n",
              "      <th>lag2</th>\n",
              "      <th>Direction</th>\n",
              "    </tr>\n",
              "  </thead>\n",
              "  <tbody>\n",
              "    <tr>\n",
              "      <th>2084</th>\n",
              "      <td>1</td>\n",
              "      <td>3</td>\n",
              "      <td>172.2</td>\n",
              "      <td>71213.1</td>\n",
              "      <td>-71668.5</td>\n",
              "      <td>142881.6</td>\n",
              "      <td>-1.0</td>\n",
              "    </tr>\n",
              "    <tr>\n",
              "      <th>2085</th>\n",
              "      <td>2</td>\n",
              "      <td>3</td>\n",
              "      <td>28436.7</td>\n",
              "      <td>28229.1</td>\n",
              "      <td>2616.3</td>\n",
              "      <td>25612.8</td>\n",
              "      <td>1.0</td>\n",
              "    </tr>\n",
              "    <tr>\n",
              "      <th>2086</th>\n",
              "      <td>3</td>\n",
              "      <td>3</td>\n",
              "      <td>247.2</td>\n",
              "      <td>151.8</td>\n",
              "      <td>-13374.6</td>\n",
              "      <td>13526.4</td>\n",
              "      <td>-1.0</td>\n",
              "    </tr>\n",
              "    <tr>\n",
              "      <th>2087</th>\n",
              "      <td>4</td>\n",
              "      <td>3</td>\n",
              "      <td>5480.7</td>\n",
              "      <td>5782.5</td>\n",
              "      <td>3465.6</td>\n",
              "      <td>2316.9</td>\n",
              "      <td>1.0</td>\n",
              "    </tr>\n",
              "    <tr>\n",
              "      <th>2088</th>\n",
              "      <td>5</td>\n",
              "      <td>3</td>\n",
              "      <td>1563.6</td>\n",
              "      <td>91683.3</td>\n",
              "      <td>-16213.8</td>\n",
              "      <td>107897.1</td>\n",
              "      <td>-1.0</td>\n",
              "    </tr>\n",
              "  </tbody>\n",
              "</table>\n",
              "</div>"
            ],
            "text/plain": [
              "      Company  Month  Adspend     lag1     diff      lag2  Direction\n",
              "2084        1      3    172.2  71213.1 -71668.5  142881.6       -1.0\n",
              "2085        2      3  28436.7  28229.1   2616.3   25612.8        1.0\n",
              "2086        3      3    247.2    151.8 -13374.6   13526.4       -1.0\n",
              "2087        4      3   5480.7   5782.5   3465.6    2316.9        1.0\n",
              "2088        5      3   1563.6  91683.3 -16213.8  107897.1       -1.0"
            ]
          },
          "metadata": {
            "tags": []
          },
          "execution_count": 149
        }
      ]
    },
    {
      "cell_type": "markdown",
      "metadata": {
        "id": "r5XIcuW6L2dA",
        "colab_type": "text"
      },
      "source": [
        "#Spliting X and Y, preprocessing"
      ]
    },
    {
      "cell_type": "code",
      "metadata": {
        "id": "EZIIuz982j1A",
        "colab_type": "code",
        "colab": {}
      },
      "source": [
        "x = melt2[['Company','Month','Adspend','lag1','lag2']]\n",
        "y = melt2['Direction']\n",
        "xtrain,xtest,ytrain,ytest = train_test_split(x,y,test_size=0.1)"
      ],
      "execution_count": 0,
      "outputs": []
    },
    {
      "cell_type": "code",
      "metadata": {
        "id": "BmZV-de62vq5",
        "colab_type": "code",
        "colab": {}
      },
      "source": [
        "d = pd.DataFrame(index=ytest.index) # data for testing\n",
        "d[\"Actual\"] = ytest\n",
        "xtrain = xtrain[['lag1','lag2']]\n",
        "xtest_fin = xtest.copy()\n",
        "xtest = xtest[['lag1','lag2']]\n",
        "\n",
        "\n",
        "# from sklearn import preprocessing                      #using for preprocessing\n",
        "# scaler = preprocessing.StandardScaler().fit(xtrain)\n",
        "# x_train = scaler.transform(xtrain)\n",
        "# x_test = scaler.transform(xtest)"
      ],
      "execution_count": 0,
      "outputs": []
    },
    {
      "cell_type": "markdown",
      "metadata": {
        "id": "MFcXMr4IMsQ2",
        "colab_type": "text"
      },
      "source": [
        "#Model training and testing + metrics report"
      ]
    },
    {
      "cell_type": "code",
      "metadata": {
        "id": "hR5FyldO26HL",
        "colab_type": "code",
        "colab": {
          "base_uri": "https://localhost:8080/",
          "height": 216
        },
        "outputId": "394f812c-4806-4e30-ee79-96d3e9d3eea0"
      },
      "source": [
        "# from sklearn.model_selection import GridSearchCV                        #using for searching best params\n",
        "# clf = LogisticRegression()\n",
        "# grid_values = {'penalty': ['l2'],'C':[0.001,.009,0.01,.09,1,5,10,25],'max_iter':[300,450,500]}\n",
        "# grid_clf_acc = GridSearchCV(clf, param_grid = grid_values,cv=3)\n",
        "# grid_clf_acc.fit(xtrain, ytrain)\n",
        "# print('Best C: ', grid_clf_acc.best_estimator_.get_params()['C'])\n",
        "# print('Best iter: ', grid_clf_acc.best_estimator_.get_params()['max_iter'])\n",
        "\n",
        "model = LogisticRegression(C=5,max_iter=300)\n",
        "model.fit(xtrain, ytrain)     # fitting model\n",
        "\n",
        "d['Predict_LR'] = model.predict(xtest) # tests and creating actual+prediction dataset\n",
        "fin_df = pd.concat([xtest_fin,d],axis = 1)\n",
        "\n",
        "print('accuracy: ',accuracy_score(ytest, d['Predict_LR']))                   #metrics report\n",
        "print('*********')\n",
        "report = classification_report(ytest, d['Predict_LR'], target_names=['-1', '0','1'])\n",
        "print(report)"
      ],
      "execution_count": 152,
      "outputs": [
        {
          "output_type": "stream",
          "text": [
            "accuracy:  0.9968017057569296\n",
            "*********\n",
            "              precision    recall  f1-score   support\n",
            "\n",
            "          -1       1.00      1.00      1.00       336\n",
            "           0       0.93      1.00      0.97        42\n",
            "           1       1.00      1.00      1.00       560\n",
            "\n",
            "    accuracy                           1.00       938\n",
            "   macro avg       0.98      1.00      0.99       938\n",
            "weighted avg       1.00      1.00      1.00       938\n",
            "\n"
          ],
          "name": "stdout"
        }
      ]
    },
    {
      "cell_type": "markdown",
      "metadata": {
        "id": "9tBMqEhoM4cA",
        "colab_type": "text"
      },
      "source": [
        "#Confusion matrix for labels\n",
        "\n"
      ]
    },
    {
      "cell_type": "code",
      "metadata": {
        "id": "i_LpjGKmK8v5",
        "colab_type": "code",
        "colab": {
          "base_uri": "https://localhost:8080/",
          "height": 278
        },
        "outputId": "a761e20f-9d18-4236-f798-c5f3d48dd2e0"
      },
      "source": [
        "confusion_matrix = pd.crosstab(fin_df['Actual'], fin_df['Predict_LR'], rownames=['Actual'], colnames=['Predicted'])\n",
        "sn.heatmap(confusion_matrix, annot=True)\n",
        "plt.show()"
      ],
      "execution_count": 129,
      "outputs": [
        {
          "output_type": "display_data",
          "data": {
            "image/png": "[encoded data removed]",
            "text/plain": [
              "<Figure size 432x288 with 2 Axes>"
            ]
          },
          "metadata": {
            "tags": [],
            "needs_background": "light"
          }
        }
      ]
    },
    {
      "cell_type": "markdown",
      "metadata": {
        "id": "eTKL6t_ANfun",
        "colab_type": "text"
      },
      "source": [
        "#Model saving"
      ]
    },
    {
      "cell_type": "code",
      "metadata": {
        "id": "6-D0U-Ic8kiI",
        "colab_type": "code",
        "colab": {}
      },
      "source": [
        "\n",
        "# Save the trained model as a pickle string. \n",
        "saved_model = pickle.dumps(model) \n",
        "\n",
        "# Load the pickled model \n",
        "model_from_pickle = pickle.loads(saved_model) \n",
        "\n",
        "# Use the loaded pickled model to make predictions \n",
        "#model_from_pickle.predict(xtest) "
      ],
      "execution_count": 0,
      "outputs": []
    },
    {
      "cell_type": "markdown",
      "metadata": {
        "id": "Gppv9QGnSz7P",
        "colab_type": "text"
      },
      "source": [
        "#Example"
      ]
    },
    {
      "cell_type": "code",
      "metadata": {
        "id": "yWZCH9yU7XTh",
        "colab_type": "code",
        "colab": {
          "base_uri": "https://localhost:8080/",
          "height": 406
        },
        "outputId": "39373bc2-7ee4-4c8b-a06b-8bd29a583ec5"
      },
      "source": [
        "fin_df[fin_df['Month']==11] #11 is actually adspends for last month "
      ],
      "execution_count": 154,
      "outputs": [
        {
          "output_type": "execute_result",
          "data": {
            "text/html": [
              "<div>\n",
              "<style scoped>\n",
              "    .dataframe tbody tr th:only-of-type {\n",
              "        vertical-align: middle;\n",
              "    }\n",
              "\n",
              "    .dataframe tbody tr th {\n",
              "        vertical-align: top;\n",
              "    }\n",
              "\n",
              "    .dataframe thead th {\n",
              "        text-align: right;\n",
              "    }\n",
              "</style>\n",
              "<table border=\"1\" class=\"dataframe\">\n",
              "  <thead>\n",
              "    <tr style=\"text-align: right;\">\n",
              "      <th></th>\n",
              "      <th>Company</th>\n",
              "      <th>Month</th>\n",
              "      <th>Adspend</th>\n",
              "      <th>lag1</th>\n",
              "      <th>lag2</th>\n",
              "      <th>Actual</th>\n",
              "      <th>Predict_LR</th>\n",
              "    </tr>\n",
              "  </thead>\n",
              "  <tbody>\n",
              "    <tr>\n",
              "      <th>11392</th>\n",
              "      <td>973</td>\n",
              "      <td>11</td>\n",
              "      <td>17273.7</td>\n",
              "      <td>18148.5</td>\n",
              "      <td>18732.0</td>\n",
              "      <td>-1.0</td>\n",
              "      <td>-1.0</td>\n",
              "    </tr>\n",
              "    <tr>\n",
              "      <th>10460</th>\n",
              "      <td>41</td>\n",
              "      <td>11</td>\n",
              "      <td>194743.2</td>\n",
              "      <td>191493.9</td>\n",
              "      <td>192125.4</td>\n",
              "      <td>-1.0</td>\n",
              "      <td>-1.0</td>\n",
              "    </tr>\n",
              "    <tr>\n",
              "      <th>11130</th>\n",
              "      <td>711</td>\n",
              "      <td>11</td>\n",
              "      <td>117914.7</td>\n",
              "      <td>116449.2</td>\n",
              "      <td>111224.7</td>\n",
              "      <td>1.0</td>\n",
              "      <td>1.0</td>\n",
              "    </tr>\n",
              "    <tr>\n",
              "      <th>11051</th>\n",
              "      <td>632</td>\n",
              "      <td>11</td>\n",
              "      <td>2211728.1</td>\n",
              "      <td>2180647.5</td>\n",
              "      <td>2154043.5</td>\n",
              "      <td>1.0</td>\n",
              "      <td>1.0</td>\n",
              "    </tr>\n",
              "    <tr>\n",
              "      <th>10707</th>\n",
              "      <td>288</td>\n",
              "      <td>11</td>\n",
              "      <td>37795.2</td>\n",
              "      <td>36985.5</td>\n",
              "      <td>35222.1</td>\n",
              "      <td>1.0</td>\n",
              "      <td>1.0</td>\n",
              "    </tr>\n",
              "    <tr>\n",
              "      <th>...</th>\n",
              "      <td>...</td>\n",
              "      <td>...</td>\n",
              "      <td>...</td>\n",
              "      <td>...</td>\n",
              "      <td>...</td>\n",
              "      <td>...</td>\n",
              "      <td>...</td>\n",
              "    </tr>\n",
              "    <tr>\n",
              "      <th>10659</th>\n",
              "      <td>240</td>\n",
              "      <td>11</td>\n",
              "      <td>399685.2</td>\n",
              "      <td>356668.8</td>\n",
              "      <td>351627.9</td>\n",
              "      <td>1.0</td>\n",
              "      <td>1.0</td>\n",
              "    </tr>\n",
              "    <tr>\n",
              "      <th>11179</th>\n",
              "      <td>760</td>\n",
              "      <td>11</td>\n",
              "      <td>309533.1</td>\n",
              "      <td>310140.3</td>\n",
              "      <td>309619.2</td>\n",
              "      <td>1.0</td>\n",
              "      <td>1.0</td>\n",
              "    </tr>\n",
              "    <tr>\n",
              "      <th>10852</th>\n",
              "      <td>433</td>\n",
              "      <td>11</td>\n",
              "      <td>447049.8</td>\n",
              "      <td>399945.3</td>\n",
              "      <td>375409.5</td>\n",
              "      <td>1.0</td>\n",
              "      <td>1.0</td>\n",
              "    </tr>\n",
              "    <tr>\n",
              "      <th>10433</th>\n",
              "      <td>14</td>\n",
              "      <td>11</td>\n",
              "      <td>98356.2</td>\n",
              "      <td>93870.9</td>\n",
              "      <td>90393.0</td>\n",
              "      <td>1.0</td>\n",
              "      <td>1.0</td>\n",
              "    </tr>\n",
              "    <tr>\n",
              "      <th>10648</th>\n",
              "      <td>229</td>\n",
              "      <td>11</td>\n",
              "      <td>199669.5</td>\n",
              "      <td>200313.0</td>\n",
              "      <td>200969.4</td>\n",
              "      <td>-1.0</td>\n",
              "      <td>-1.0</td>\n",
              "    </tr>\n",
              "  </tbody>\n",
              "</table>\n",
              "<p>94 rows × 7 columns</p>\n",
              "</div>"
            ],
            "text/plain": [
              "       Company  Month    Adspend       lag1       lag2  Actual  Predict_LR\n",
              "11392      973     11    17273.7    18148.5    18732.0    -1.0        -1.0\n",
              "10460       41     11   194743.2   191493.9   192125.4    -1.0        -1.0\n",
              "11130      711     11   117914.7   116449.2   111224.7     1.0         1.0\n",
              "11051      632     11  2211728.1  2180647.5  2154043.5     1.0         1.0\n",
              "10707      288     11    37795.2    36985.5    35222.1     1.0         1.0\n",
              "...        ...    ...        ...        ...        ...     ...         ...\n",
              "10659      240     11   399685.2   356668.8   351627.9     1.0         1.0\n",
              "11179      760     11   309533.1   310140.3   309619.2     1.0         1.0\n",
              "10852      433     11   447049.8   399945.3   375409.5     1.0         1.0\n",
              "10433       14     11    98356.2    93870.9    90393.0     1.0         1.0\n",
              "10648      229     11   199669.5   200313.0   200969.4    -1.0        -1.0\n",
              "\n",
              "[94 rows x 7 columns]"
            ]
          },
          "metadata": {
            "tags": []
          },
          "execution_count": 154
        }
      ]
    }
  ]
}